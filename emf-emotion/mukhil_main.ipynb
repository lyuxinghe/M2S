{
 "cells": [
  {
   "cell_type": "code",
   "execution_count": 381,
   "metadata": {},
   "outputs": [],
   "source": [
    "import pyedflib\n",
    "import numpy as np\n",
    "import os\n",
    "import glob\n",
    "import matplotlib.pyplot as plt\n",
    "from sklearn.decomposition import FastICA\n",
    "import math\n",
    "from scipy.signal import butter, sosfilt, lfilter, sosfiltfilt, sosfreqz\n",
    "from scipy.fft import fft, fftfreq\n",
    "import scipy\n",
    "from sklearn import preprocessing\n",
    "import eeglib\n",
    "from scipy.signal import welch\n",
    "from scipy.integrate import simps\n",
    "import pywt\n",
    "from sklearn.neighbors import KNeighborsClassifier\n",
    "from sklearn.ensemble import RandomForestClassifier\n",
    "from sklearn.model_selection import train_test_split\n",
    "from sklearn.metrics import confusion_matrix\n",
    "from sklearn import metrics"
   ]
  },
  {
   "cell_type": "code",
   "execution_count": 2,
   "metadata": {},
   "outputs": [],
   "source": [
    "from load_data import Subject_Session_Data\n",
    "# from preprocess import butter_bandpass_filter"
   ]
  },
  {
   "cell_type": "code",
   "execution_count": 415,
   "metadata": {},
   "outputs": [
    {
     "name": "stdout",
     "output_type": "stream",
     "text": [
      "working with dataset directory: /Users/magizhshankar/Documents/CS 545/Final Project/enterface06_EMOBRAIN/Data\n",
      "reading file : 1\n",
      "30\n",
      "reading file : 2\n",
      "reading file : 2\n",
      "30\n",
      "reading file : 3\n",
      "30\n",
      "reading file : 4\n",
      "30\n",
      "reading file : 5\n",
      "30\n",
      "reading file : 6\n",
      "30\n",
      "reading file : 7\n",
      "30\n",
      "reading file : 8\n",
      "30\n",
      "reading file : 9\n",
      "30\n",
      "reading file : 10\n",
      "30\n",
      "reading file : 11\n",
      "30\n",
      "reading file : 12\n",
      "30\n",
      "reading file : 13\n",
      "30\n",
      "reading file : 14\n",
      "30\n"
     ]
    }
   ],
   "source": [
    "work_dir = os.path.dirname(os.path.dirname(os.getcwd()))\n",
    "dataset_dir = os.path.join(work_dir, \"enterface06_EMOBRAIN\", \"Data\")\n",
    "dataset_common_dir = os.path.join(dataset_dir, \"Common\")\n",
    "dataset_EEG_dir = os.path.join(dataset_dir, \"EEG\")\n",
    "dataset_fNIRS_dir = os.path.join(dataset_dir, \"fNIRS\")\n",
    "\n",
    "print(\"working with dataset directory:\", dataset_dir)\n",
    "\n",
    "# Construct the search pattern\n",
    "pattern = os.path.join(dataset_EEG_dir, \"*.bdf\")\n",
    "\n",
    "# Find all files in the directory matching the pattern\n",
    "bdf_files = glob.glob(pattern)\n",
    "\n",
    "count = 1\n",
    "data_list = []\n",
    "for file in bdf_files:\n",
    "        # Open the BDF file\n",
    "        try:\n",
    "                with pyedflib.EdfReader(file) as f:\n",
    "                        # marks = []\n",
    "                        print(\"reading file :\", count)\n",
    "                        participant_index = file.find(\"Part\")\n",
    "                        session_index = file.find(\"SES\")\n",
    "                        participant_number = int(file[participant_index+4])\n",
    "                        # print(\"Participant number:\", participant_number)\n",
    "                        session_number = int(file[session_index+3])\n",
    "                        # print(\"Session number:\", session_number)\n",
    "                        if participant_number == 2 and session_number == 1:\n",
    "                                continue\n",
    "                        fi = open(file+\".mrk\", \"r\")\n",
    "                        fi.readline()\n",
    "                        inferred_temp_marks = []\n",
    "                        for line in fi:\n",
    "                                temp_marks = line.split('\\t')[1:]\n",
    "                                temp_marks[-1] = temp_marks[-1][:-1]\n",
    "                                if temp_marks[-1] == '\"255\"':\n",
    "                                        if temp_marks[0] == temp_marks[1]:\n",
    "                                                inferred_temp_marks.append(int(temp_marks[0]))\n",
    "                                        else:\n",
    "                                                print(\"Irregular:\", temp_marks)\n",
    "                        print(len(inferred_temp_marks))\n",
    "                        block_sample_ranges = []\n",
    "                        for trigger in inferred_temp_marks:\n",
    "                                if participant_number == 1 and session_number == 1:\n",
    "                                        start_index = trigger + 768\n",
    "                                        end_index = start_index + 3200\n",
    "                                        block_sample_ranges.append((start_index,end_index))\n",
    "                                else:\n",
    "                                        start_index = trigger + 3072\n",
    "                                        end_index = start_index + 12800\n",
    "                                        block_sample_ranges.append((start_index,end_index))\n",
    "\n",
    "                        data_list.append(Subject_Session_Data(f, count, participant_number, session_number, inferred_temp_marks, block_sample_ranges))\n",
    "                        '''\n",
    "                        # Get general information\n",
    "                        print(\"reading file :\", count)\n",
    "                        print(\"File duration in seconds:\", f.file_duration)\n",
    "                        print(\"Number of signals:\", f.signals_in_file)\n",
    "                        signal_labels = f.getSignalLabels()\n",
    "                        print(\"Signal labels:\", signal_labels)\n",
    "\n",
    "                        # Read data from each signal\n",
    "                        for i in range(f.signals_in_file):\n",
    "                                data = f.readSignal(i)\n",
    "                                print(f\"Data from signal {signal_labels[i]}:\", data)\n",
    "                        '''\n",
    "        except (OSError):\n",
    "                print(\"reading file :\", count, \"FAIL\")\n",
    "        count += 1\n",
    "\n",
    "emotion_classes = os.path.join(dataset_common_dir, \"IAPS_Classes_EEG_fNIRS.txt\")\n",
    "emotion_file = open(emotion_classes, \"r\")\n",
    "session1 = []\n",
    "session2 = []\n",
    "session3 = []\n",
    "for line in emotion_file:\n",
    "        temp_emotions = line.split(\"\\t\")\n",
    "        temp_emotions[-1] = temp_emotions[-1][:-1]\n",
    "        session1.append(temp_emotions[0])\n",
    "        session2.append(temp_emotions[1])\n",
    "        session3.append(temp_emotions[2])\n",
    "\n",
    "for subject_session in data_list:\n",
    "        if subject_session.session_number == 1:\n",
    "                subject_session.emotions = session1\n",
    "        elif subject_session.session_number == 2:\n",
    "                subject_session.emotions = session2\n",
    "        elif subject_session.session_number == 3:\n",
    "                subject_session.emotions = session3"
   ]
  },
  {
   "cell_type": "code",
   "execution_count": 106,
   "metadata": {},
   "outputs": [
    {
     "name": "stdout",
     "output_type": "stream",
     "text": [
      "file number: 5\n",
      "File duration in seconds: 1338\n",
      "Number of signals: 72\n",
      "Number of samples: 1370112\n",
      "Participant number: 4\n",
      "Session number: 3\n",
      "Emotions ['Pos', 'Neg', 'Calm', 'Pos', 'Pos', 'Neg', 'Calm', 'Neg', 'Calm', 'Calm', 'Neg', 'Neg', 'Calm', 'Pos', 'Pos', 'Calm', 'Neg', 'Pos', 'Neg', 'Calm', 'Pos', 'Calm', 'Calm', 'Neg', 'Pos', 'Calm', 'Pos', 'Pos', 'Neg', 'Neg']\n"
     ]
    }
   ],
   "source": [
    "data_list[4].display_info()"
   ]
  },
  {
   "cell_type": "code",
   "execution_count": 5,
   "metadata": {},
   "outputs": [],
   "source": [
    "test_signal = data_list[0]\n",
    "fs = 1024"
   ]
  },
  {
   "cell_type": "code",
   "execution_count": 6,
   "metadata": {},
   "outputs": [],
   "source": [
    "def plot_signal(data, title):\n",
    "    t = np.arange(data.shape[0])\n",
    "    plt.figure(figsize=(12,5))\n",
    "    plt.plot(t,data)\n",
    "    plt.xlim([t[0],t[-1]])\n",
    "    plt.ylim([min(data), max(data)])\n",
    "    plt.xlabel('time (sec)')\n",
    "    plt.grid()\n",
    "    plt.title(title)\n",
    "    plt.show()"
   ]
  },
  {
   "cell_type": "code",
   "execution_count": 28,
   "metadata": {},
   "outputs": [
    {
     "data": {
      "image/png": "[encoded data removed]",
      "text/plain": [
       "<Figure size 864x360 with 1 Axes>"
      ]
     },
     "metadata": {
      "needs_background": "light"
     },
     "output_type": "display_data"
    }
   ],
   "source": [
    "test_signal_labels = test_signal.signal_labels\n",
    "test_data_dic = test_signal.data_dictionary\n",
    "index = 1\n",
    "test_data = test_data_dic[test_signal_labels[index]]\n",
    "# test_data = test_data - np.mean(test_data)\n",
    "plot_signal(test_data, '1')"
   ]
  },
  {
   "cell_type": "code",
   "execution_count": 29,
   "metadata": {},
   "outputs": [],
   "source": [
    "def plotSpectrum(y,Fs):\n",
    " \"\"\"\n",
    " Plots a Single-Sided Amplitude Spectrum of y(t)\n",
    " \"\"\"\n",
    " n = len(y) # length of the signal\n",
    " k = scipy.arange(n)\n",
    " T = n/Fs\n",
    " frq = k/T # two sides frequency range\n",
    " frq = frq[range(int(n/2))][:100000] # one side frequency range\n",
    "\n",
    " Y = fft(y)/n # fft computing and normalization\n",
    " Y = Y[range(int(n/2))][:100000]\n",
    " \n",
    " plt.plot(frq,abs(Y),'r') # plotting the spectrum\n",
    " plt.xlabel('Freq (Hz)')\n",
    " plt.ylabel('|Y(freq)|')"
   ]
  },
  {
   "cell_type": "code",
   "execution_count": 31,
   "metadata": {},
   "outputs": [
    {
     "data": {
      "image/png": "[encoded data removed]",
      "text/plain": [
       "<Figure size 720x216 with 2 Axes>"
      ]
     },
     "metadata": {
      "needs_background": "light"
     },
     "output_type": "display_data"
    }
   ],
   "source": [
    "fig, (ax1, ax2) = plt.subplots(1, 2, figsize=(10, 3))\n",
    "ax1.plot(times, test_data)\n",
    "ax1.set_title(\"Original Signal\")\n",
    "ax1.margins(0, .1)\n",
    "ax1.grid(alpha=.5, ls='--')\n",
    "filtered = filtered - np.mean(filtered)\n",
    "ax2.plot(times, filtered)\n",
    "ax2.set_title(\"Band-Pass Filter (10-50 Hz)\")\n",
    "ax2.grid(alpha=.5, ls='--')\n",
    "plt.tight_layout()\n",
    "plt.show()"
   ]
  },
  {
   "cell_type": "code",
   "execution_count": 26,
   "metadata": {},
   "outputs": [
    {
     "name": "stderr",
     "output_type": "stream",
     "text": [
      "<ipython-input-25-b7b995159154>:6: DeprecationWarning: scipy.arange is deprecated and will be removed in SciPy 2.0.0, use numpy.arange instead\n",
      "  k = scipy.arange(n)\n"
     ]
    },
    {
     "data": {
      "image/png": "[encoded data removed]",
      "text/plain": [
       "<Figure size 432x288 with 1 Axes>"
      ]
     },
     "metadata": {
      "needs_background": "light"
     },
     "output_type": "display_data"
    }
   ],
   "source": [
    "plotSpectrum(filtered, fs)"
   ]
  },
  {
   "cell_type": "code",
   "execution_count": 27,
   "metadata": {},
   "outputs": [
    {
     "name": "stderr",
     "output_type": "stream",
     "text": [
      "<ipython-input-25-b7b995159154>:6: DeprecationWarning: scipy.arange is deprecated and will be removed in SciPy 2.0.0, use numpy.arange instead\n",
      "  k = scipy.arange(n)\n"
     ]
    },
    {
     "data": {
      "image/png": "[encoded data removed]",
      "text/plain": [
       "<Figure size 432x288 with 1 Axes>"
      ]
     },
     "metadata": {
      "needs_background": "light"
     },
     "output_type": "display_data"
    }
   ],
   "source": [
    "plotSpectrum(test_data, fs)"
   ]
  },
  {
   "cell_type": "code",
   "execution_count": 416,
   "metadata": {},
   "outputs": [],
   "source": [
    "def bandpower(data, sf, band, window_sec=None, relative=False):\n",
    "    \"\"\"Compute the average power of the signal x in a specific frequency band.\n",
    "\n",
    "    Parameters\n",
    "    ----------\n",
    "    data : 1d-array\n",
    "        Input signal in the time-domain.\n",
    "    sf : float\n",
    "        Sampling frequency of the data.\n",
    "    band : list\n",
    "        Lower and upper frequencies of the band of interest.\n",
    "    window_sec : float\n",
    "        Length of each window in seconds.\n",
    "        If None, window_sec = (1 / min(band)) * 2\n",
    "    relative : boolean\n",
    "        If True, return the relative power (= divided by the total power of the signal).\n",
    "        If False (default), return the absolute power.\n",
    "\n",
    "    Return\n",
    "    ------\n",
    "    bp : float\n",
    "        Absolute or relative band power.\n",
    "    \"\"\"\n",
    "    \n",
    "    band = np.asarray(band)\n",
    "    low, high = band\n",
    "\n",
    "    # Define window length\n",
    "    if window_sec is not None:\n",
    "        nperseg = window_sec * sf\n",
    "    else:\n",
    "        nperseg = (2 / low) * sf\n",
    "\n",
    "    # Compute the modified periodogram (Welch)\n",
    "    freqs, psd = welch(data, sf, nperseg=nperseg)\n",
    "\n",
    "    # Frequency resolution\n",
    "    freq_res = freqs[1] - freqs[0]\n",
    "\n",
    "    # Find closest indices of band in frequency vector\n",
    "    idx_band = np.logical_and(freqs >= low, freqs <= high)\n",
    "\n",
    "    # Integral approximation of the spectrum using Simpson's rule.\n",
    "    bp = simps(psd[idx_band], dx=freq_res)\n",
    "\n",
    "    if relative:\n",
    "        bp /= simps(psd, dx=freq_res)\n",
    "    return bp"
   ]
  },
  {
   "cell_type": "code",
   "execution_count": 640,
   "metadata": {},
   "outputs": [],
   "source": [
    "class EEGFeatureExtraction:\n",
    "    \n",
    "    def __init__(self, data, fs=1024):\n",
    "        self.data = data\n",
    "        self.fs = fs\n",
    "        self.num_samples = len(data)\n",
    "        self.num_channels = data[1].num_channels\n",
    "        self.num_truncations = len(data[1].block_sample_ranges)\n",
    "        self.target_channels = ['F3'] #, 'F4', 'T7'] # , 'Fp1', 'Fp2', 'T8', 'F7', 'F8', 'O1', 'P7', 'P8', 'O2']\n",
    "        print()\n",
    "\n",
    "    def display_info(self):\n",
    "            # samples = {}\n",
    "            print(\"Number of samples:\", self.num_samples)\n",
    "            print(\"Number of channels:\", self.num_channels)\n",
    "            print(\"Number of truncations:\", self.num_truncations)\n",
    "            print(\"Target channels:\", self.target_channels)\n",
    "\n",
    "    def extract_features(self):\n",
    "        results = np.zeros(shape = (self.num_samples, self.num_truncations, len(self.target_channels) * 3200))\n",
    "        print(results.shape)\n",
    "        for sample_id, sample in enumerate(self.data):\n",
    "            for band_id, truncation_range in enumerate(sample.block_sample_ranges):\n",
    "                features = []\n",
    "                for channel_id, channel in enumerate(self.target_channels):\n",
    "                    assert channel in sample.signal_labels, channel + \" target channel is not present in the sample data!\"\n",
    "                    channel_signal = sample.data_dictionary[channel]\n",
    "                    truncation = channel_signal[truncation_range[0]:truncation_range[1]]\n",
    "                    if len(truncation) == 12800:\n",
    "                         truncation = truncation[::4]\n",
    "                    filtered = eeglib.preprocessing.bandPassFilter(truncation, sampleRate=self.fs, highpass=2, lowpass=45, order = 3)\n",
    "                    feature_vector = [0 for _ in range(3200)]\n",
    "                    feature_vector = filtered\n",
    "                    # feature_vector[0] = eeglib.features.hjorthActivity(filtered)\n",
    "                    # feature_vector[1] = eeglib.features.hjorthMobility(filtered)\n",
    "                    # feature_vector[2] = eeglib.features.hjorthComplexity(filtered)\n",
    "                    # # feature_vector[3] = bandpower(filtered, self.fs, [4,8])\n",
    "                    # # feature_vector[4] = bandpower(filtered, self.fs, [8,12])\n",
    "                    # # feature_vector[5] = bandpower(filtered, self.fs, [12,30])\n",
    "                    # # feature_vector[6] = bandpower(filtered, self.fs, [30,45])\n",
    "                    # feature_vector[3] = eeglib.features.sampEn(filtered)\n",
    "                    # feature_vector[4] = eeglib.features.HFD(filtered)\n",
    "                    # f, Pxx_den = scipy.signal.welch(filtered, self.fs, nperseg=256, noverlap=128)\n",
    "                    # feature_vector[0] = math.log(np.max(Pxx_den))\n",
    "                    features = feature_vector\n",
    "                    \n",
    "                    # #print Pxx_den.shape, Pxx_den\n",
    "                    # results[sample_id][channel_id*self.num_truncations + band_id] = math.log(np.max(Pxx_den))\n",
    "                results[sample_id][band_id][:] = features\n",
    "        return results"
   ]
  },
  {
   "cell_type": "code",
   "execution_count": 641,
   "metadata": {},
   "outputs": [
    {
     "name": "stdout",
     "output_type": "stream",
     "text": [
      "\n",
      "Number of samples: 14\n",
      "Number of channels: 72\n",
      "Number of truncations: 30\n",
      "Target channels: ['F3']\n"
     ]
    }
   ],
   "source": [
    "eeg_fe = EEGFeatureExtraction(data_list)\n",
    "eeg_fe.display_info()"
   ]
  },
  {
   "cell_type": "code",
   "execution_count": 642,
   "metadata": {},
   "outputs": [
    {
     "name": "stdout",
     "output_type": "stream",
     "text": [
      "(14, 30, 3200)\n"
     ]
    }
   ],
   "source": [
    "eeg_features = eeg_fe.extract_features()"
   ]
  },
  {
   "cell_type": "code",
   "execution_count": 643,
   "metadata": {},
   "outputs": [],
   "source": [
    "reshaped_features = eeg_features.reshape(14*30, -1)  # (420, 12)\n",
    "mean_feature = np.mean(reshaped_features, axis = 0)\n",
    "reshaped_features = reshaped_features - mean_feature"
   ]
  },
  {
   "cell_type": "code",
   "execution_count": 644,
   "metadata": {},
   "outputs": [],
   "source": [
    "eeg_labels = np.array([sample.emotions for sample in data_list])\n",
    "flattened_labels = eeg_labels.flatten()"
   ]
  },
  {
   "cell_type": "code",
   "execution_count": 645,
   "metadata": {},
   "outputs": [],
   "source": [
    "X_train, X_test, y_train, y_test = train_test_split(reshaped_features, flattened_labels, test_size=0.1, random_state=42)"
   ]
  },
  {
   "cell_type": "code",
   "execution_count": 646,
   "metadata": {},
   "outputs": [],
   "source": [
    "nbrs = KNeighborsClassifier(n_neighbors=3).fit(X_train, y_train)\n",
    "result = nbrs.predict(X_test)"
   ]
  },
  {
   "cell_type": "code",
   "execution_count": 647,
   "metadata": {},
   "outputs": [
    {
     "data": {
      "image/png": "[encoded data removed]",
      "text/plain": [
       "<Figure size 432x288 with 2 Axes>"
      ]
     },
     "metadata": {
      "needs_background": "light"
     },
     "output_type": "display_data"
    }
   ],
   "source": [
    "cm = confusion_matrix(y_test, result)\n",
    "cm_display = metrics.ConfusionMatrixDisplay(confusion_matrix = cm)\n",
    "cm_display.plot()\n",
    "plt.show()"
   ]
  },
  {
   "cell_type": "code",
   "execution_count": 648,
   "metadata": {},
   "outputs": [
    {
     "name": "stdout",
     "output_type": "stream",
     "text": [
      "0.23809523809523808\n"
     ]
    }
   ],
   "source": [
    "correct = 0\n",
    "for i in range(len(result)):\n",
    "    if result[i] == y_test[i]:\n",
    "        correct += 1\n",
    "print(correct/len(result))"
   ]
  },
  {
   "cell_type": "code",
   "execution_count": 649,
   "metadata": {},
   "outputs": [],
   "source": [
    "clf = RandomForestClassifier(max_depth=30, random_state=0)\n",
    "clf.fit(X_train, y_train)\n",
    "results = clf.predict(X_test)"
   ]
  },
  {
   "cell_type": "code",
   "execution_count": 650,
   "metadata": {},
   "outputs": [
    {
     "data": {
      "text/plain": [
       "42"
      ]
     },
     "execution_count": 650,
     "metadata": {},
     "output_type": "execute_result"
    }
   ],
   "source": [
    "len(results)"
   ]
  },
  {
   "cell_type": "code",
   "execution_count": 651,
   "metadata": {},
   "outputs": [
    {
     "name": "stdout",
     "output_type": "stream",
     "text": [
      "0.23809523809523808\n"
     ]
    }
   ],
   "source": [
    "correct = 0\n",
    "for i in range(len(results)):\n",
    "    if results[i] == y_test[i]:\n",
    "        correct += 1\n",
    "print(correct/len(results))"
   ]
  },
  {
   "cell_type": "code",
   "execution_count": 566,
   "metadata": {},
   "outputs": [
    {
     "name": "stdout",
     "output_type": "stream",
     "text": [
      "feature shape: torch.Size([420, 5])\n",
      "label shape: torch.Size([420])\n",
      "Unique encoded labels: [0 1 2]\n"
     ]
    }
   ],
   "source": [
    "import torch\n",
    "import numpy as np\n",
    "from sklearn.preprocessing import LabelEncoder\n",
    "from sklearn.model_selection import train_test_split\n",
    "from torch.utils.data import TensorDataset, DataLoader\n",
    "\n",
    "label_encoder = LabelEncoder()\n",
    "integer_encoded = label_encoder.fit_transform(flattened_labels)\n",
    "integer_encoded = integer_encoded.reshape(-1, 1)\n",
    "\n",
    "features_tensor = torch.tensor(reshaped_features, dtype=torch.float32)\n",
    "labels_tensor = torch.tensor(integer_encoded, dtype=torch.long).squeeze()\n",
    "print(\"feature shape:\", features_tensor.shape)\n",
    "print(\"label shape:\", labels_tensor.shape)\n",
    "print(\"Unique encoded labels:\", np.unique(integer_encoded))\n",
    "\n",
    "tensor_dataset = TensorDataset(features_tensor, labels_tensor)\n",
    "\n",
    "train_dataset, test_dataset = train_test_split(tensor_dataset, test_size=0.2, random_state=42)\n",
    "\n",
    "train_loader = DataLoader(train_dataset, batch_size=10, shuffle=True)\n",
    "test_loader = DataLoader(test_dataset, batch_size=10, shuffle=False)"
   ]
  },
  {
   "cell_type": "code",
   "execution_count": 568,
   "metadata": {},
   "outputs": [],
   "source": [
    "import torch.nn as nn\n",
    "import torch.nn.functional as F\n",
    "\n",
    "class SimpleNN(nn.Module):\n",
    "    def __init__(self):\n",
    "        super(SimpleNN, self).__init__()\n",
    "        self.fc1 = nn.Linear(5, 32)\n",
    "        self.bn1 = nn.BatchNorm1d(32)\n",
    "        self.fc2 = nn.Linear(32, 8)\n",
    "        self.bn2 = nn.BatchNorm1d(8)\n",
    "        self.fc3 = nn.Linear(8, 3)\n",
    "        # self.bn3 = nn.BatchNorm1d(128)\n",
    "        # self.fc4 = nn.Linear(128, 64)\n",
    "        # self.bn4 = nn.BatchNorm1d(64)\n",
    "        # self.fc5 = nn.Linear(64, 32)\n",
    "        # self.bn5 = nn.BatchNorm1d(32)\n",
    "        # self.fc6 = nn.Linear(32, 3)\n",
    "        # self.dropout = nn.Dropout(0.2)\n",
    "\n",
    "    def forward(self, x):\n",
    "        x = F.leaky_relu(self.bn1(self.fc1(x)))\n",
    "        # x = self.dropout(x)\n",
    "        x = F.leaky_relu(self.bn2(self.fc2(x)))\n",
    "        # x = self.dropout(x)\n",
    "        x = self.fc3(x)\n",
    "        # x = F.leaky_relu(self.bn3(self.fc3(x)))\n",
    "        # x = self.dropout(x)\n",
    "        # x = F.leaky_relu(self.bn4(self.fc4(x)))\n",
    "        # x = self.dropout(x)\n",
    "        # x = F.leaky_relu(self.bn5(self.fc5(x)))\n",
    "        # x = self.dropout(x)\n",
    "        # x = self.fc6(x)\n",
    "        return x\n",
    "\n",
    "model = SimpleNN()"
   ]
  },
  {
   "cell_type": "code",
   "execution_count": 569,
   "metadata": {},
   "outputs": [
    {
     "name": "stdout",
     "output_type": "stream",
     "text": [
      "Epoch 1, Loss: 1.1417244234505821\n",
      "Epoch 2, Loss: 1.125956738696379\n",
      "Epoch 3, Loss: 1.114461460534264\n",
      "Epoch 4, Loss: 1.1053383841234095\n",
      "Epoch 5, Loss: 1.1055223310694975\n",
      "Epoch 6, Loss: 1.104511541478774\n",
      "Epoch 7, Loss: 1.1034640073776245\n",
      "Epoch 8, Loss: 1.0982670819058138\n",
      "Epoch 9, Loss: 1.100448909927817\n",
      "Epoch 10, Loss: 1.09609857376884\n",
      "Epoch 11, Loss: 1.0978341944077437\n",
      "Epoch 12, Loss: 1.0997849176911747\n",
      "Epoch 13, Loss: 1.1026906651609085\n",
      "Epoch 14, Loss: 1.103283496464\n",
      "Epoch 15, Loss: 1.1012124769827898\n",
      "Epoch 16, Loss: 1.097050807055305\n",
      "Epoch 17, Loss: 1.0977878956233753\n",
      "Epoch 18, Loss: 1.0986874945023481\n",
      "Epoch 19, Loss: 1.1027502943487728\n",
      "Epoch 20, Loss: 1.100023578195011\n",
      "Epoch 21, Loss: 1.0988680545021505\n",
      "Epoch 22, Loss: 1.0971727721831377\n",
      "Epoch 23, Loss: 1.0973312539212845\n",
      "Epoch 24, Loss: 1.1032539816463696\n",
      "Epoch 25, Loss: 1.1003265696413376\n",
      "Epoch 26, Loss: 1.097941163708182\n",
      "Epoch 27, Loss: 1.0969057293499218\n",
      "Epoch 28, Loss: 1.0983110771459692\n",
      "Epoch 29, Loss: 1.1020097241682165\n",
      "Epoch 30, Loss: 1.0980217316571403\n",
      "Epoch 31, Loss: 1.099408374113195\n",
      "Epoch 32, Loss: 1.0983479759272408\n",
      "Epoch 33, Loss: 1.102974839070264\n",
      "Epoch 34, Loss: 1.0997579834040474\n",
      "Epoch 35, Loss: 1.1004182205480688\n",
      "Epoch 36, Loss: 1.099557992290048\n",
      "Epoch 37, Loss: 1.1009244463023018\n",
      "Epoch 38, Loss: 1.0985873411683476\n",
      "Epoch 39, Loss: 1.1003319270470564\n",
      "Epoch 40, Loss: 1.1016308630214018\n",
      "Epoch 41, Loss: 1.0992711256532108\n",
      "Epoch 42, Loss: 1.0989803566652185\n",
      "Epoch 43, Loss: 1.1033696321880115\n",
      "Epoch 44, Loss: 1.0988095437779146\n",
      "Epoch 45, Loss: 1.0996945780866287\n",
      "Epoch 46, Loss: 1.100028427208171\n",
      "Epoch 47, Loss: 1.0986291555797352\n",
      "Epoch 48, Loss: 1.099011571968303\n",
      "Epoch 49, Loss: 1.0965032542453093\n",
      "Epoch 50, Loss: 1.0965810663559858\n",
      "Epoch 51, Loss: 1.100780171506545\n",
      "Epoch 52, Loss: 1.1008137043784647\n",
      "Epoch 53, Loss: 1.0964359220336466\n",
      "Epoch 54, Loss: 1.0986754193025476\n",
      "Epoch 55, Loss: 1.0976728726835812\n",
      "Epoch 56, Loss: 1.0967299166847677\n",
      "Epoch 57, Loss: 1.1024087947957657\n",
      "Epoch 58, Loss: 1.102656115503872\n",
      "Epoch 59, Loss: 1.1004408387576832\n",
      "Epoch 60, Loss: 1.0986876382547266\n",
      "Epoch 61, Loss: 1.096043464015512\n",
      "Epoch 62, Loss: 1.1019181609153748\n",
      "Epoch 63, Loss: 1.1010153083240284\n",
      "Epoch 64, Loss: 1.0980957080336178\n",
      "Epoch 65, Loss: 1.1002165114178377\n",
      "Epoch 66, Loss: 1.0988543910138748\n",
      "Epoch 67, Loss: 1.0970739617067224\n",
      "Epoch 68, Loss: 1.1052516137852388\n",
      "Epoch 69, Loss: 1.101269220604616\n",
      "Epoch 70, Loss: 1.1014615963487064\n",
      "Epoch 71, Loss: 1.1005173746277304\n",
      "Epoch 72, Loss: 1.0999865531921387\n",
      "Epoch 73, Loss: 1.0971876593197094\n",
      "Epoch 74, Loss: 1.099276469034307\n",
      "Epoch 75, Loss: 1.1010738611221313\n",
      "Epoch 76, Loss: 1.0972071114708395\n",
      "Epoch 77, Loss: 1.1001350949792301\n",
      "Epoch 78, Loss: 1.1007154373561634\n",
      "Epoch 79, Loss: 1.097844337715822\n",
      "Epoch 80, Loss: 1.0987816242610706\n",
      "Epoch 81, Loss: 1.0984889303936678\n",
      "Epoch 82, Loss: 1.0985835475080155\n",
      "Epoch 83, Loss: 1.0988086882759542\n",
      "Epoch 84, Loss: 1.0993200856096603\n",
      "Epoch 85, Loss: 1.1007268008063822\n",
      "Epoch 86, Loss: 1.1004374798606424\n",
      "Epoch 87, Loss: 1.1005044859998367\n",
      "Epoch 88, Loss: 1.100220007054946\n",
      "Epoch 89, Loss: 1.09944889124702\n",
      "Epoch 90, Loss: 1.0987790297059452\n",
      "Epoch 91, Loss: 1.0962352857870215\n",
      "Epoch 92, Loss: 1.1029568069121416\n",
      "Epoch 93, Loss: 1.0980841868063982\n",
      "Epoch 94, Loss: 1.1002596266129439\n",
      "Epoch 95, Loss: 1.1007439809686996\n",
      "Epoch 96, Loss: 1.096510813516729\n",
      "Epoch 97, Loss: 1.1002793066641863\n",
      "Epoch 98, Loss: 1.0996145255425398\n",
      "Epoch 99, Loss: 1.1009601389660555\n",
      "Epoch 100, Loss: 1.1018305210506214\n",
      "Epoch 101, Loss: 1.1011229823617374\n",
      "Epoch 102, Loss: 1.0978162323727327\n",
      "Epoch 103, Loss: 1.0997585864628063\n",
      "Epoch 104, Loss: 1.0941245170200573\n",
      "Epoch 105, Loss: 1.103168280685649\n",
      "Epoch 106, Loss: 1.0934004573261036\n",
      "Epoch 107, Loss: 1.1026529529515434\n",
      "Epoch 108, Loss: 1.1034826636314392\n",
      "Epoch 109, Loss: 1.0995301323778488\n",
      "Epoch 110, Loss: 1.0972284043536467\n",
      "Epoch 111, Loss: 1.096543525948244\n",
      "Epoch 112, Loss: 1.1008043639800127\n",
      "Epoch 113, Loss: 1.0984631846932804\n",
      "Epoch 114, Loss: 1.099828870857463\n",
      "Epoch 115, Loss: 1.1005211192018844\n",
      "Epoch 116, Loss: 1.0975701212882996\n",
      "Epoch 117, Loss: 1.0991841729949503\n",
      "Epoch 118, Loss: 1.1032808738596298\n",
      "Epoch 119, Loss: 1.0982917512164396\n",
      "Epoch 120, Loss: 1.098363055902369\n",
      "Epoch 121, Loss: 1.0999618067460901\n",
      "Epoch 122, Loss: 1.099770749316496\n",
      "Epoch 123, Loss: 1.0988412429304684\n",
      "Epoch 124, Loss: 1.0986035676563488\n",
      "Epoch 125, Loss: 1.0972151090117062\n",
      "Epoch 126, Loss: 1.1016208985272575\n",
      "Epoch 127, Loss: 1.0955250193091\n",
      "Epoch 128, Loss: 1.1024185874882866\n",
      "Epoch 129, Loss: 1.1011650737594156\n",
      "Epoch 130, Loss: 1.0966595691793106\n",
      "Epoch 131, Loss: 1.1009643779081457\n",
      "Epoch 132, Loss: 1.1035482532837813\n",
      "Epoch 133, Loss: 1.0998233451562769\n",
      "Epoch 134, Loss: 1.0998379903681137\n",
      "Epoch 135, Loss: 1.0985866504556991\n",
      "Epoch 136, Loss: 1.0983015298843384\n",
      "Epoch 137, Loss: 1.0983499148312736\n",
      "Epoch 138, Loss: 1.0985700803644516\n",
      "Epoch 139, Loss: 1.0991710529607885\n",
      "Epoch 140, Loss: 1.0989779865040499\n",
      "Epoch 141, Loss: 1.1001099207822014\n",
      "Epoch 142, Loss: 1.0944232905612272\n",
      "Epoch 143, Loss: 1.0992582826053394\n",
      "Epoch 144, Loss: 1.0980872932602377\n",
      "Epoch 145, Loss: 1.0988653056761797\n",
      "Epoch 146, Loss: 1.0996208401287304\n",
      "Epoch 147, Loss: 1.1016616190181059\n",
      "Epoch 148, Loss: 1.0996790773728315\n",
      "Epoch 149, Loss: 1.0987225981319653\n",
      "Epoch 150, Loss: 1.097309897927677\n",
      "Epoch 151, Loss: 1.0965039940441357\n",
      "Epoch 152, Loss: 1.0966226318303276\n",
      "Epoch 153, Loss: 1.098392409436843\n",
      "Epoch 154, Loss: 1.0964868349187515\n",
      "Epoch 155, Loss: 1.0979256594882292\n",
      "Epoch 156, Loss: 1.1022317269269157\n",
      "Epoch 157, Loss: 1.098315368680393\n",
      "Epoch 158, Loss: 1.0972938151920544\n",
      "Epoch 159, Loss: 1.0978910291896147\n",
      "Epoch 160, Loss: 1.0966193430563982\n",
      "Epoch 161, Loss: 1.1008755599751192\n",
      "Epoch 162, Loss: 1.0951149638961344\n",
      "Epoch 163, Loss: 1.1017240355996525\n",
      "Epoch 164, Loss: 1.0969908973749947\n",
      "Epoch 165, Loss: 1.0961407352896297\n",
      "Epoch 166, Loss: 1.0972186677596147\n",
      "Epoch 167, Loss: 1.0978398358120638\n",
      "Epoch 168, Loss: 1.0991151963963228\n",
      "Epoch 169, Loss: 1.0992383746539844\n",
      "Epoch 170, Loss: 1.0952469390981339\n",
      "Epoch 171, Loss: 1.1005765480153702\n",
      "Epoch 172, Loss: 1.1029684929286732\n",
      "Epoch 173, Loss: 1.0985326942275553\n",
      "Epoch 174, Loss: 1.1002756742870106\n",
      "Epoch 175, Loss: 1.0961759476100696\n",
      "Epoch 176, Loss: 1.0998900848276474\n",
      "Epoch 177, Loss: 1.0993836732471691\n",
      "Epoch 178, Loss: 1.0984415341826046\n",
      "Epoch 179, Loss: 1.0962931864401873\n",
      "Epoch 180, Loss: 1.0986814989763147\n",
      "Epoch 181, Loss: 1.1024829184307772\n",
      "Epoch 182, Loss: 1.1013281731044544\n",
      "Epoch 183, Loss: 1.0992119627840378\n",
      "Epoch 184, Loss: 1.0995346342816072\n",
      "Epoch 185, Loss: 1.1005088161019718\n",
      "Epoch 186, Loss: 1.097974083002876\n",
      "Epoch 187, Loss: 1.0995145019362955\n",
      "Epoch 188, Loss: 1.0959547091932857\n",
      "Epoch 189, Loss: 1.0949652054730583\n",
      "Epoch 190, Loss: 1.096623725750867\n",
      "Epoch 191, Loss: 1.0981873238787931\n",
      "Epoch 192, Loss: 1.1043282782330233\n",
      "Epoch 193, Loss: 1.0991589812671436\n",
      "Epoch 194, Loss: 1.0990262943155624\n",
      "Epoch 195, Loss: 1.098326868870679\n",
      "Epoch 196, Loss: 1.099505438524134\n",
      "Epoch 197, Loss: 1.0982783892575432\n",
      "Epoch 198, Loss: 1.0991034192197464\n",
      "Epoch 199, Loss: 1.099163111518411\n",
      "Epoch 200, Loss: 1.098919037510367\n",
      "Epoch 201, Loss: 1.099781786694246\n",
      "Epoch 202, Loss: 1.0981470521758585\n",
      "Epoch 203, Loss: 1.0974303729393904\n",
      "Epoch 204, Loss: 1.0993319925139933\n",
      "Epoch 205, Loss: 1.0980154521325056\n",
      "Epoch 206, Loss: 1.0990287030444426\n",
      "Epoch 207, Loss: 1.0987542762475855\n",
      "Epoch 208, Loss: 1.0973670026835274\n",
      "Epoch 209, Loss: 1.0970557191792656\n",
      "Epoch 210, Loss: 1.097586165456211\n",
      "Epoch 211, Loss: 1.09731784287621\n",
      "Epoch 212, Loss: 1.098249028710758\n",
      "Epoch 213, Loss: 1.100034205352559\n",
      "Epoch 214, Loss: 1.1014862341039322\n",
      "Epoch 215, Loss: 1.0930511951446533\n",
      "Epoch 216, Loss: 1.0979675510350395\n",
      "Epoch 217, Loss: 1.1011781937935774\n",
      "Epoch 218, Loss: 1.1025830191724442\n",
      "Epoch 219, Loss: 1.1009759271846098\n",
      "Epoch 220, Loss: 1.098323776441462\n",
      "Epoch 221, Loss: 1.0979984157225664\n",
      "Epoch 222, Loss: 1.0978072916760164\n",
      "Epoch 223, Loss: 1.0998610573656418\n",
      "Epoch 224, Loss: 1.0983991903417252\n",
      "Epoch 225, Loss: 1.0999848562128403\n",
      "Epoch 226, Loss: 1.097582964336171\n",
      "Epoch 227, Loss: 1.098271510180305\n",
      "Epoch 228, Loss: 1.097058026229634\n",
      "Epoch 229, Loss: 1.1002440627883463\n",
      "Epoch 230, Loss: 1.0991756635553696\n",
      "Epoch 231, Loss: 1.0967264035168816\n",
      "Epoch 232, Loss: 1.0961808737586527\n",
      "Epoch 233, Loss: 1.0974344716352575\n",
      "Epoch 234, Loss: 1.1016670395346249\n",
      "Epoch 235, Loss: 1.097336635870092\n",
      "Epoch 236, Loss: 1.0984816621331608\n",
      "Epoch 237, Loss: 1.0950573367231033\n",
      "Epoch 238, Loss: 1.0979581194765426\n",
      "Epoch 239, Loss: 1.0947366777588339\n",
      "Epoch 240, Loss: 1.0966016580076778\n",
      "Epoch 241, Loss: 1.0988498400239384\n",
      "Epoch 242, Loss: 1.10250363630407\n",
      "Epoch 243, Loss: 1.0984864655662985\n",
      "Epoch 244, Loss: 1.1015268984962912\n",
      "Epoch 245, Loss: 1.0957033599124235\n",
      "Epoch 246, Loss: 1.095521141501034\n",
      "Epoch 247, Loss: 1.0997648624812855\n",
      "Epoch 248, Loss: 1.1019495620447046\n",
      "Epoch 249, Loss: 1.0997818462988909\n",
      "Epoch 250, Loss: 1.0985259624088513\n",
      "Epoch 251, Loss: 1.0987420608015621\n",
      "Epoch 252, Loss: 1.100027578718522\n",
      "Epoch 253, Loss: 1.098146848818835\n",
      "Epoch 254, Loss: 1.0967044830322266\n",
      "Epoch 255, Loss: 1.101331517976873\n",
      "Epoch 256, Loss: 1.0998108912916744\n",
      "Epoch 257, Loss: 1.0974196160540861\n",
      "Epoch 258, Loss: 1.0966744773528154\n",
      "Epoch 259, Loss: 1.0994545501821182\n",
      "Epoch 260, Loss: 1.0946542129797094\n",
      "Epoch 261, Loss: 1.1015686182414783\n",
      "Epoch 262, Loss: 1.0973420633989222\n",
      "Epoch 263, Loss: 1.098315130261814\n",
      "Epoch 264, Loss: 1.101273470065173\n",
      "Epoch 265, Loss: 1.097758643767413\n",
      "Epoch 266, Loss: 1.099820613861084\n",
      "Epoch 267, Loss: 1.1003405311528374\n",
      "Epoch 268, Loss: 1.1010870162178488\n",
      "Epoch 269, Loss: 1.0985398713280172\n",
      "Epoch 270, Loss: 1.100067054524141\n",
      "Epoch 271, Loss: 1.0970295913079207\n",
      "Epoch 272, Loss: 1.1008056963191313\n",
      "Epoch 273, Loss: 1.0999005857635946\n",
      "Epoch 274, Loss: 1.099427359945634\n",
      "Epoch 275, Loss: 1.0983198565595291\n",
      "Epoch 276, Loss: 1.0967566826764275\n",
      "Epoch 277, Loss: 1.0971701986649458\n",
      "Epoch 278, Loss: 1.101744550115922\n",
      "Epoch 279, Loss: 1.0984523331417757\n",
      "Epoch 280, Loss: 1.0950383123229532\n",
      "Epoch 281, Loss: 1.0971692239536959\n",
      "Epoch 282, Loss: 1.1006552086156958\n",
      "Epoch 283, Loss: 1.0994887422112858\n",
      "Epoch 284, Loss: 1.0999206269488615\n",
      "Epoch 285, Loss: 1.0981653998879826\n",
      "Epoch 286, Loss: 1.0975297373883866\n",
      "Epoch 287, Loss: 1.096070598153507\n",
      "Epoch 288, Loss: 1.0997460694874035\n",
      "Epoch 289, Loss: 1.1003194626639872\n",
      "Epoch 290, Loss: 1.0950644472066093\n",
      "Epoch 291, Loss: 1.1018116789705612\n",
      "Epoch 292, Loss: 1.0979797945303076\n",
      "Epoch 293, Loss: 1.0961012840270996\n",
      "Epoch 294, Loss: 1.0933493726393755\n",
      "Epoch 295, Loss: 1.1046501503271215\n",
      "Epoch 296, Loss: 1.1017014840069939\n",
      "Epoch 297, Loss: 1.1008857558755314\n",
      "Epoch 298, Loss: 1.0988629109719221\n",
      "Epoch 299, Loss: 1.1021682409679188\n",
      "Epoch 300, Loss: 1.0979244393460892\n",
      "Epoch 301, Loss: 1.099821216919843\n",
      "Epoch 302, Loss: 1.0987229908213896\n",
      "Epoch 303, Loss: 1.0999369305722855\n",
      "Epoch 304, Loss: 1.098023113082437\n",
      "Epoch 305, Loss: 1.0990240398575277\n",
      "Epoch 306, Loss: 1.1009904987671797\n",
      "Epoch 307, Loss: 1.0967136270859663\n",
      "Epoch 308, Loss: 1.098838308278252\n",
      "Epoch 309, Loss: 1.0989092062501347\n",
      "Epoch 310, Loss: 1.0989859875510721\n",
      "Epoch 311, Loss: 1.0985987677293665\n",
      "Epoch 312, Loss: 1.0964475449393778\n",
      "Epoch 313, Loss: 1.097417231868295\n",
      "Epoch 314, Loss: 1.098156957065358\n",
      "Epoch 315, Loss: 1.098434360588298\n",
      "Epoch 316, Loss: 1.0955713601673351\n",
      "Epoch 317, Loss: 1.0981970289174248\n",
      "Epoch 318, Loss: 1.0974807563950033\n",
      "Epoch 319, Loss: 1.0986264067537643\n",
      "Epoch 320, Loss: 1.0976111082469715\n",
      "Epoch 321, Loss: 1.1004401199957903\n",
      "Epoch 322, Loss: 1.0958439216894262\n",
      "Epoch 323, Loss: 1.0982989318230574\n",
      "Epoch 324, Loss: 1.097431224935195\n",
      "Epoch 325, Loss: 1.098818351240719\n",
      "Epoch 326, Loss: 1.0991091342533337\n",
      "Epoch 327, Loss: 1.0994759342249703\n",
      "Epoch 328, Loss: 1.0974909277523266\n",
      "Epoch 329, Loss: 1.0980507065268124\n",
      "Epoch 330, Loss: 1.097443955786088\n",
      "Epoch 331, Loss: 1.0951012583339916\n",
      "Epoch 332, Loss: 1.1002397887847002\n",
      "Epoch 333, Loss: 1.1002178928431343\n",
      "Epoch 334, Loss: 1.1000959768014795\n",
      "Epoch 335, Loss: 1.0973239435869104\n",
      "Epoch 336, Loss: 1.0988754700211918\n",
      "Epoch 337, Loss: 1.0990250601488\n",
      "Epoch 338, Loss: 1.0983383375055649\n",
      "Epoch 339, Loss: 1.1005481060813456\n",
      "Epoch 340, Loss: 1.0974994336857515\n",
      "Epoch 341, Loss: 1.0990971712505115\n",
      "Epoch 342, Loss: 1.0991348869660322\n",
      "Epoch 343, Loss: 1.0978039573220646\n",
      "Epoch 344, Loss: 1.0981101569007425\n",
      "Epoch 345, Loss: 1.0960263364455278\n",
      "Epoch 346, Loss: 1.1008482996155233\n",
      "Epoch 347, Loss: 1.0977697687990524\n",
      "Epoch 348, Loss: 1.0987067327779882\n",
      "Epoch 349, Loss: 1.0988560003392838\n",
      "Epoch 350, Loss: 1.0972892396590288\n",
      "Epoch 351, Loss: 1.1001239103429459\n",
      "Epoch 352, Loss: 1.098930232665118\n",
      "Epoch 353, Loss: 1.0965051440631641\n",
      "Epoch 354, Loss: 1.0967723902534037\n",
      "Epoch 355, Loss: 1.0974675557192635\n",
      "Epoch 356, Loss: 1.0994815055061788\n",
      "Epoch 357, Loss: 1.0990609421449549\n",
      "Epoch 358, Loss: 1.1024890542030334\n",
      "Epoch 359, Loss: 1.1000712759354536\n",
      "Epoch 360, Loss: 1.0942913854823393\n",
      "Epoch 361, Loss: 1.0969744009130142\n",
      "Epoch 362, Loss: 1.1021557906094719\n",
      "Epoch 363, Loss: 1.0957067153033089\n",
      "Epoch 364, Loss: 1.0980970473850475\n",
      "Epoch 365, Loss: 1.1000942552790922\n",
      "Epoch 366, Loss: 1.0982700025334078\n",
      "Epoch 367, Loss: 1.0968809829038733\n",
      "Epoch 368, Loss: 1.0997024809612947\n",
      "Epoch 369, Loss: 1.1008136307491976\n",
      "Epoch 370, Loss: 1.0980016764472513\n",
      "Epoch 371, Loss: 1.0983118064263289\n",
      "Epoch 372, Loss: 1.0970939748427446\n",
      "Epoch 373, Loss: 1.0968647494035608\n",
      "Epoch 374, Loss: 1.0984872684759253\n",
      "Epoch 375, Loss: 1.0977356854607077\n",
      "Epoch 376, Loss: 1.0982096931513619\n",
      "Epoch 377, Loss: 1.0983132755055147\n",
      "Epoch 378, Loss: 1.0994945273679846\n",
      "Epoch 379, Loss: 1.1007638748954325\n",
      "Epoch 380, Loss: 1.0992195711416357\n",
      "Epoch 381, Loss: 1.0981331818244036\n",
      "Epoch 382, Loss: 1.0974144024007462\n",
      "Epoch 383, Loss: 1.1003874119590311\n",
      "Epoch 384, Loss: 1.1004042555304134\n",
      "Epoch 385, Loss: 1.0974214217242073\n",
      "Epoch 386, Loss: 1.0964436531066895\n",
      "Epoch 387, Loss: 1.097548716208514\n",
      "Epoch 388, Loss: 1.0999823913854712\n",
      "Epoch 389, Loss: 1.0961287232006298\n",
      "Epoch 390, Loss: 1.095865992938771\n",
      "Epoch 391, Loss: 1.1004586640526266\n",
      "Epoch 392, Loss: 1.1000337144907784\n",
      "Epoch 393, Loss: 1.0975894612424515\n",
      "Epoch 394, Loss: 1.0969639385447782\n",
      "Epoch 395, Loss: 1.097092074506423\n",
      "Epoch 396, Loss: 1.098046113463009\n",
      "Epoch 397, Loss: 1.102070878533756\n",
      "Epoch 398, Loss: 1.0976706112132353\n",
      "Epoch 399, Loss: 1.0988579006756054\n",
      "Epoch 400, Loss: 1.09772149254294\n",
      "Epoch 401, Loss: 1.0994291550972883\n",
      "Epoch 402, Loss: 1.096403668908512\n",
      "Epoch 403, Loss: 1.097977126345915\n",
      "Epoch 404, Loss: 1.0978995807030623\n",
      "Epoch 405, Loss: 1.0956664751557743\n",
      "Epoch 406, Loss: 1.1000849218929516\n",
      "Epoch 407, Loss: 1.0971837043762207\n",
      "Epoch 408, Loss: 1.1013283203629887\n",
      "Epoch 409, Loss: 1.1005318795933443\n",
      "Epoch 410, Loss: 1.099443744210636\n",
      "Epoch 411, Loss: 1.0973116825608646\n",
      "Epoch 412, Loss: 1.1000784074558931\n",
      "Epoch 413, Loss: 1.0974598386708427\n",
      "Epoch 414, Loss: 1.0976973877233618\n",
      "Epoch 415, Loss: 1.0949950183139128\n",
      "Epoch 416, Loss: 1.1005660996717566\n",
      "Epoch 417, Loss: 1.0985728081534891\n",
      "Epoch 418, Loss: 1.1011019103667314\n",
      "Epoch 419, Loss: 1.0994416440234465\n",
      "Epoch 420, Loss: 1.0969737943480997\n",
      "Epoch 421, Loss: 1.1012991631732267\n",
      "Epoch 422, Loss: 1.0985410984824686\n",
      "Epoch 423, Loss: 1.0998021855073816\n",
      "Epoch 424, Loss: 1.100336327272303\n",
      "Epoch 425, Loss: 1.0975108602467705\n",
      "Epoch 426, Loss: 1.098153194960426\n",
      "Epoch 427, Loss: 1.1026721281163834\n",
      "Epoch 428, Loss: 1.0992466491811417\n",
      "Epoch 429, Loss: 1.0970865242621477\n",
      "Epoch 430, Loss: 1.0998721999280594\n",
      "Epoch 431, Loss: 1.0984469056129456\n",
      "Epoch 432, Loss: 1.0988777314915377\n",
      "Epoch 433, Loss: 1.1002982258796692\n",
      "Epoch 434, Loss: 1.1006934572668636\n",
      "Epoch 435, Loss: 1.0969109184601729\n",
      "Epoch 436, Loss: 1.0986394566648148\n",
      "Epoch 437, Loss: 1.1005942716318018\n",
      "Epoch 438, Loss: 1.0968648090082056\n",
      "Epoch 439, Loss: 1.1010314787135405\n",
      "Epoch 440, Loss: 1.09810892273398\n",
      "Epoch 441, Loss: 1.1000652558663313\n",
      "Epoch 442, Loss: 1.0985958050279057\n",
      "Epoch 443, Loss: 1.0998477444929236\n",
      "Epoch 444, Loss: 1.1002302099676693\n",
      "Epoch 445, Loss: 1.0972906806889702\n",
      "Epoch 446, Loss: 1.0964442631777596\n",
      "Epoch 447, Loss: 1.0974405407905579\n",
      "Epoch 448, Loss: 1.0962343251003939\n",
      "Epoch 449, Loss: 1.1024679226033829\n",
      "Epoch 450, Loss: 1.1017964412184322\n",
      "Epoch 451, Loss: 1.0980349253205692\n",
      "Epoch 452, Loss: 1.0975057482719421\n",
      "Epoch 453, Loss: 1.0979414792621838\n",
      "Epoch 454, Loss: 1.0963193318423103\n",
      "Epoch 455, Loss: 1.098793418968425\n",
      "Epoch 456, Loss: 1.0984611651476692\n",
      "Epoch 457, Loss: 1.099460549214307\n",
      "Epoch 458, Loss: 1.1002805829048157\n",
      "Epoch 459, Loss: 1.097368969636805\n",
      "Epoch 460, Loss: 1.100220361176659\n",
      "Epoch 461, Loss: 1.1004956014016096\n",
      "Epoch 462, Loss: 1.1007014933754415\n",
      "Epoch 463, Loss: 1.0973215278457193\n",
      "Epoch 464, Loss: 1.0980279024909525\n",
      "Epoch 465, Loss: 1.0967128066455616\n",
      "Epoch 466, Loss: 1.0967842375530916\n",
      "Epoch 467, Loss: 1.098113287897671\n",
      "Epoch 468, Loss: 1.0977210262242485\n",
      "Epoch 469, Loss: 1.098622118725496\n",
      "Epoch 470, Loss: 1.0975355015081518\n",
      "Epoch 471, Loss: 1.0991382283322952\n",
      "Epoch 472, Loss: 1.1032220090136808\n",
      "Epoch 473, Loss: 1.0971148575053495\n",
      "Epoch 474, Loss: 1.097091811544755\n",
      "Epoch 475, Loss: 1.096758947652929\n",
      "Epoch 476, Loss: 1.0982797040658838\n",
      "Epoch 477, Loss: 1.1000039367114796\n",
      "Epoch 478, Loss: 1.0993925192776848\n",
      "Epoch 479, Loss: 1.0990264941664303\n",
      "Epoch 480, Loss: 1.0979565522250008\n",
      "Epoch 481, Loss: 1.1015810405506807\n",
      "Epoch 482, Loss: 1.0981920957565308\n",
      "Epoch 483, Loss: 1.098652555662043\n",
      "Epoch 484, Loss: 1.0993515603682573\n",
      "Epoch 485, Loss: 1.099314486279207\n",
      "Epoch 486, Loss: 1.098097110495848\n",
      "Epoch 487, Loss: 1.0953930020332336\n",
      "Epoch 488, Loss: 1.094826778944801\n",
      "Epoch 489, Loss: 1.0968915329259985\n",
      "Epoch 490, Loss: 1.1006483225261463\n",
      "Epoch 491, Loss: 1.0964639642659355\n",
      "Epoch 492, Loss: 1.0997643050025492\n",
      "Epoch 493, Loss: 1.0960349721067093\n",
      "Epoch 494, Loss: 1.1002728833871729\n",
      "Epoch 495, Loss: 1.098681933739606\n",
      "Epoch 496, Loss: 1.0968101340181686\n",
      "Epoch 497, Loss: 1.0954277795903824\n",
      "Epoch 498, Loss: 1.0987804532051086\n",
      "Epoch 499, Loss: 1.099341697552625\n",
      "Epoch 500, Loss: 1.0985701049075407\n",
      "Epoch 501, Loss: 1.0994972025646883\n",
      "Epoch 502, Loss: 1.0988442441996407\n",
      "Epoch 503, Loss: 1.0963113623506882\n",
      "Epoch 504, Loss: 1.0983933455803816\n",
      "Epoch 505, Loss: 1.0986296429353601\n",
      "Epoch 506, Loss: 1.0985077935106613\n",
      "Epoch 507, Loss: 1.1001478153116562\n",
      "Epoch 508, Loss: 1.0989352429614347\n",
      "Epoch 509, Loss: 1.0999376388157116\n",
      "Epoch 510, Loss: 1.0945929218741024\n",
      "Epoch 511, Loss: 1.0994596551446354\n",
      "Epoch 512, Loss: 1.0976887906298918\n",
      "Epoch 513, Loss: 1.0956708122702206\n",
      "Epoch 514, Loss: 1.0952835258315592\n",
      "Epoch 515, Loss: 1.098683676298927\n",
      "Epoch 516, Loss: 1.0984323761042427\n",
      "Epoch 517, Loss: 1.0983315040083492\n",
      "Epoch 518, Loss: 1.0990964770317078\n",
      "Epoch 519, Loss: 1.101793243604548\n",
      "Epoch 520, Loss: 1.0988328807494219\n",
      "Epoch 521, Loss: 1.098130348850699\n",
      "Epoch 522, Loss: 1.1009063860949349\n",
      "Epoch 523, Loss: 1.099286205628339\n",
      "Epoch 524, Loss: 1.0988792356322794\n",
      "Epoch 525, Loss: 1.0952184024979086\n",
      "Epoch 526, Loss: 1.0965771990663864\n",
      "Epoch 527, Loss: 1.098506254308364\n",
      "Epoch 528, Loss: 1.0964928514817183\n",
      "Epoch 529, Loss: 1.0981804588261772\n",
      "Epoch 530, Loss: 1.1003144208122702\n",
      "Epoch 531, Loss: 1.0985787861487444\n",
      "Epoch 532, Loss: 1.0986646518987768\n",
      "Epoch 533, Loss: 1.0960547292933744\n",
      "Epoch 534, Loss: 1.099332101204816\n",
      "Epoch 535, Loss: 1.097934933269725\n",
      "Epoch 536, Loss: 1.099834144115448\n",
      "Epoch 537, Loss: 1.098563485285815\n",
      "Epoch 538, Loss: 1.1004462978419136\n",
      "Epoch 539, Loss: 1.0942914696300732\n",
      "Epoch 540, Loss: 1.097298618625192\n",
      "Epoch 541, Loss: 1.0976221280939438\n",
      "Epoch 542, Loss: 1.097741053384893\n",
      "Epoch 543, Loss: 1.0994371806873995\n",
      "Epoch 544, Loss: 1.094358956112581\n",
      "Epoch 545, Loss: 1.1006796710631426\n",
      "Epoch 546, Loss: 1.1006402268129236\n",
      "Epoch 547, Loss: 1.0960370477508097\n",
      "Epoch 548, Loss: 1.1011228315970476\n",
      "Epoch 549, Loss: 1.095713247271145\n",
      "Epoch 550, Loss: 1.1026467400438644\n",
      "Epoch 551, Loss: 1.0975192925509285\n",
      "Epoch 552, Loss: 1.098359598832972\n",
      "Epoch 553, Loss: 1.0958707963719088\n",
      "Epoch 554, Loss: 1.0967780842500574\n",
      "Epoch 555, Loss: 1.0963985148598165\n",
      "Epoch 556, Loss: 1.098702939117656\n",
      "Epoch 557, Loss: 1.097669797785142\n",
      "Epoch 558, Loss: 1.100860627258525\n",
      "Epoch 559, Loss: 1.0959327185855192\n",
      "Epoch 560, Loss: 1.1025048844954546\n",
      "Epoch 561, Loss: 1.0974960151840658\n",
      "Epoch 562, Loss: 1.097603159792283\n",
      "Epoch 563, Loss: 1.0965983797522152\n",
      "Epoch 564, Loss: 1.1023468936190886\n",
      "Epoch 565, Loss: 1.0965981167905472\n",
      "Epoch 566, Loss: 1.0990066598443424\n",
      "Epoch 567, Loss: 1.0981678577030407\n",
      "Epoch 568, Loss: 1.1063595799838795\n",
      "Epoch 569, Loss: 1.1021242352092968\n",
      "Epoch 570, Loss: 1.0998246038661283\n",
      "Epoch 571, Loss: 1.0983360725290634\n",
      "Epoch 572, Loss: 1.095989381565767\n",
      "Epoch 573, Loss: 1.096923375830931\n",
      "Epoch 574, Loss: 1.1008847566211926\n",
      "Epoch 575, Loss: 1.0994411426431991\n",
      "Epoch 576, Loss: 1.0984979061519398\n",
      "Epoch 577, Loss: 1.0996875447385452\n",
      "Epoch 578, Loss: 1.0986539440996506\n",
      "Epoch 579, Loss: 1.1029712452607996\n",
      "Epoch 580, Loss: 1.0970209346098059\n",
      "Epoch 581, Loss: 1.1009264763663797\n",
      "Epoch 582, Loss: 1.0984132430132698\n",
      "Epoch 583, Loss: 1.0970521078390234\n",
      "Epoch 584, Loss: 1.09649197844898\n",
      "Epoch 585, Loss: 1.1005238610155441\n",
      "Epoch 586, Loss: 1.1002888399011947\n",
      "Epoch 587, Loss: 1.0954120053964502\n",
      "Epoch 588, Loss: 1.0976111818762386\n",
      "Epoch 589, Loss: 1.100488627658171\n",
      "Epoch 590, Loss: 1.0987908489563887\n",
      "Epoch 591, Loss: 1.1000671176349415\n",
      "Epoch 592, Loss: 1.1020182055585526\n",
      "Epoch 593, Loss: 1.0981248091248905\n",
      "Epoch 594, Loss: 1.0991676519898808\n",
      "Epoch 595, Loss: 1.0962537807576798\n",
      "Epoch 596, Loss: 1.1005081849939682\n",
      "Epoch 597, Loss: 1.099790432873894\n",
      "Epoch 598, Loss: 1.0999916791915894\n",
      "Epoch 599, Loss: 1.0971879538367777\n",
      "Epoch 600, Loss: 1.097285740515765\n",
      "Epoch 601, Loss: 1.09692562678281\n",
      "Epoch 602, Loss: 1.1003844948375927\n",
      "Epoch 603, Loss: 1.0973926957915812\n",
      "Epoch 604, Loss: 1.0942184644586899\n",
      "Epoch 605, Loss: 1.0959185046308182\n",
      "Epoch 606, Loss: 1.1000483141225927\n",
      "Epoch 607, Loss: 1.1011420418234432\n",
      "Epoch 608, Loss: 1.1005153831313639\n",
      "Epoch 609, Loss: 1.096895126735463\n",
      "Epoch 610, Loss: 1.098173688439762\n",
      "Epoch 611, Loss: 1.100268476149615\n",
      "Epoch 612, Loss: 1.0978256253635181\n",
      "Epoch 613, Loss: 1.0954767851268543\n",
      "Epoch 614, Loss: 1.0970529458102058\n",
      "Epoch 615, Loss: 1.0968573198598974\n",
      "Epoch 616, Loss: 1.0967906397931717\n",
      "Epoch 617, Loss: 1.0963576961966122\n",
      "Epoch 618, Loss: 1.0978551682303934\n",
      "Epoch 619, Loss: 1.0994593641337227\n",
      "Epoch 620, Loss: 1.1001881711623247\n",
      "Epoch 621, Loss: 1.0977864931611454\n",
      "Epoch 622, Loss: 1.0948179434327518\n",
      "Epoch 623, Loss: 1.100800096988678\n",
      "Epoch 624, Loss: 1.0987388561753666\n",
      "Epoch 625, Loss: 1.0959594705525566\n",
      "Epoch 626, Loss: 1.0979025714537676\n",
      "Epoch 627, Loss: 1.097715321709128\n",
      "Epoch 628, Loss: 1.0989187429932987\n",
      "Epoch 629, Loss: 1.0989093464963577\n",
      "Epoch 630, Loss: 1.0975820457234102\n",
      "Epoch 631, Loss: 1.0974635972696192\n",
      "Epoch 632, Loss: 1.0998773294336655\n",
      "Epoch 633, Loss: 1.096379560582778\n",
      "Epoch 634, Loss: 1.0975140227990992\n",
      "Epoch 635, Loss: 1.099414264454561\n",
      "Epoch 636, Loss: 1.0982446880901562\n",
      "Epoch 637, Loss: 1.0988555831067703\n",
      "Epoch 638, Loss: 1.0969812554471634\n",
      "Epoch 639, Loss: 1.0975356943467085\n",
      "Epoch 640, Loss: 1.0987758741659277\n",
      "Epoch 641, Loss: 1.0942851059577043\n",
      "Epoch 642, Loss: 1.0968200844876907\n",
      "Epoch 643, Loss: 1.0960886057685404\n",
      "Epoch 644, Loss: 1.0959960537798263\n",
      "Epoch 645, Loss: 1.099155769628637\n",
      "Epoch 646, Loss: 1.0992328664835762\n",
      "Epoch 647, Loss: 1.0976297364515417\n",
      "Epoch 648, Loss: 1.0974349730155046\n",
      "Epoch 649, Loss: 1.097463492084952\n",
      "Epoch 650, Loss: 1.0967781999531914\n",
      "Epoch 651, Loss: 1.0986934900283813\n",
      "Epoch 652, Loss: 1.0962622305926155\n",
      "Epoch 653, Loss: 1.0982187004650341\n",
      "Epoch 654, Loss: 1.0973599167431103\n",
      "Epoch 655, Loss: 1.0996610066469978\n",
      "Epoch 656, Loss: 1.0987455003401811\n",
      "Epoch 657, Loss: 1.0973352789878845\n",
      "Epoch 658, Loss: 1.1027005139519186\n",
      "Epoch 659, Loss: 1.0987452689339132\n",
      "Epoch 660, Loss: 1.0988654669593363\n",
      "Epoch 661, Loss: 1.0951612206066357\n",
      "Epoch 662, Loss: 1.1004291807903963\n",
      "Epoch 663, Loss: 1.098380982875824\n",
      "Epoch 664, Loss: 1.097692542216357\n",
      "Epoch 665, Loss: 1.0976969845154707\n",
      "Epoch 666, Loss: 1.0972167218432707\n",
      "Epoch 667, Loss: 1.0961433017955107\n",
      "Epoch 668, Loss: 1.0990557495285482\n",
      "Epoch 669, Loss: 1.0970842662979574\n",
      "Epoch 670, Loss: 1.0980663650176103\n",
      "Epoch 671, Loss: 1.097876958987292\n",
      "Epoch 672, Loss: 1.0974359091590433\n",
      "Epoch 673, Loss: 1.0978716752108406\n",
      "Epoch 674, Loss: 1.099375928149504\n",
      "Epoch 675, Loss: 1.101385589908151\n",
      "Epoch 676, Loss: 1.0976074934005737\n",
      "Epoch 677, Loss: 1.09870942550547\n",
      "Epoch 678, Loss: 1.0985160715439741\n",
      "Epoch 679, Loss: 1.0966200583121355\n",
      "Epoch 680, Loss: 1.0988716833731706\n",
      "Epoch 681, Loss: 1.0961469517034643\n",
      "Epoch 682, Loss: 1.0979184788816116\n",
      "Epoch 683, Loss: 1.0962563823251164\n",
      "Epoch 684, Loss: 1.0982012468225815\n",
      "Epoch 685, Loss: 1.09623405863257\n",
      "Epoch 686, Loss: 1.1001061095910913\n",
      "Epoch 687, Loss: 1.0966209488756515\n",
      "Epoch 688, Loss: 1.101861834526062\n",
      "Epoch 689, Loss: 1.0956281984553617\n",
      "Epoch 690, Loss: 1.105290388359743\n",
      "Epoch 691, Loss: 1.1022100623916178\n",
      "Epoch 692, Loss: 1.0963131925638985\n",
      "Epoch 693, Loss: 1.0988457132788265\n",
      "Epoch 694, Loss: 1.1041243777555578\n",
      "Epoch 695, Loss: 1.095948783790364\n",
      "Epoch 696, Loss: 1.0998839525615467\n",
      "Epoch 697, Loss: 1.0972770031760721\n",
      "Epoch 698, Loss: 1.0981469715342802\n",
      "Epoch 699, Loss: 1.0948673451648039\n",
      "Epoch 700, Loss: 1.0967462869251476\n",
      "Epoch 701, Loss: 1.0989885856123531\n",
      "Epoch 702, Loss: 1.0986587159773882\n",
      "Epoch 703, Loss: 1.098682329935186\n",
      "Epoch 704, Loss: 1.096910974558662\n",
      "Epoch 705, Loss: 1.0953336252885706\n",
      "Epoch 706, Loss: 1.0973081027760225\n",
      "Epoch 707, Loss: 1.098982488407808\n",
      "Epoch 708, Loss: 1.0940449798808378\n",
      "Epoch 709, Loss: 1.1032477582202238\n",
      "Epoch 710, Loss: 1.0990548835081213\n",
      "Epoch 711, Loss: 1.099238676183364\n",
      "Epoch 712, Loss: 1.0995724937495064\n",
      "Epoch 713, Loss: 1.0979849836405586\n",
      "Epoch 714, Loss: 1.0971593856811523\n",
      "Epoch 715, Loss: 1.0948398323620068\n",
      "Epoch 716, Loss: 1.097098725683549\n",
      "Epoch 717, Loss: 1.0976878159186418\n",
      "Epoch 718, Loss: 1.0968394910587984\n",
      "Epoch 719, Loss: 1.0963554557631998\n",
      "Epoch 720, Loss: 1.098911671077504\n",
      "Epoch 721, Loss: 1.098344136686886\n",
      "Epoch 722, Loss: 1.0991745170424967\n",
      "Epoch 723, Loss: 1.100296742775861\n",
      "Epoch 724, Loss: 1.0963214670910555\n",
      "Epoch 725, Loss: 1.097651555257685\n",
      "Epoch 726, Loss: 1.0954483151435852\n",
      "Epoch 727, Loss: 1.1004350360702067\n",
      "Epoch 728, Loss: 1.0984449141165789\n",
      "Epoch 729, Loss: 1.0958183162352617\n",
      "Epoch 730, Loss: 1.0988837550668156\n",
      "Epoch 731, Loss: 1.1001291836009306\n",
      "Epoch 732, Loss: 1.0987266231985653\n",
      "Epoch 733, Loss: 1.0990661452798283\n",
      "Epoch 734, Loss: 1.0985265058629654\n",
      "Epoch 735, Loss: 1.0992841369965498\n",
      "Epoch 736, Loss: 1.0989945215337418\n",
      "Epoch 737, Loss: 1.098498845801634\n",
      "Epoch 738, Loss: 1.0983451885335587\n",
      "Epoch 739, Loss: 1.0969729353399837\n",
      "Epoch 740, Loss: 1.100272255785325\n",
      "Epoch 741, Loss: 1.0973804172347574\n",
      "Epoch 742, Loss: 1.096489594263189\n",
      "Epoch 743, Loss: 1.0947075380998499\n",
      "Epoch 744, Loss: 1.0993109906420988\n",
      "Epoch 745, Loss: 1.0979530565878923\n",
      "Epoch 746, Loss: 1.0967994507621317\n",
      "Epoch 747, Loss: 1.0974992373410393\n",
      "Epoch 748, Loss: 1.0969908132272608\n",
      "Epoch 749, Loss: 1.100103753454545\n",
      "Epoch 750, Loss: 1.1001406276927275\n",
      "Epoch 751, Loss: 1.0941479977439432\n",
      "Epoch 752, Loss: 1.0985902302405413\n",
      "Epoch 753, Loss: 1.0973083762561573\n",
      "Epoch 754, Loss: 1.0974446184494917\n",
      "Epoch 755, Loss: 1.098113561377806\n",
      "Epoch 756, Loss: 1.1073095342692207\n",
      "Epoch 757, Loss: 1.1181006151087143\n",
      "Epoch 758, Loss: 1.109636127948761\n",
      "Epoch 759, Loss: 1.1079195141792297\n",
      "Epoch 760, Loss: 1.1064795115414787\n",
      "Epoch 761, Loss: 1.108994533033932\n",
      "Epoch 762, Loss: 1.0977077098453747\n",
      "Epoch 763, Loss: 1.0987453600939583\n",
      "Epoch 764, Loss: 1.0998749522601856\n",
      "Epoch 765, Loss: 1.1004841397790348\n",
      "Epoch 766, Loss: 1.1028353010906893\n",
      "Epoch 767, Loss: 1.0988387675846325\n",
      "Epoch 768, Loss: 1.0985765001353096\n",
      "Epoch 769, Loss: 1.0996577073546017\n",
      "Epoch 770, Loss: 1.0991990951930775\n",
      "Epoch 771, Loss: 1.0967689577270956\n",
      "Epoch 772, Loss: 1.100802347940557\n",
      "Epoch 773, Loss: 1.0971790552139282\n",
      "Epoch 774, Loss: 1.0933017099604887\n",
      "Epoch 775, Loss: 1.0949097906841951\n",
      "Epoch 776, Loss: 1.1001820353900684\n",
      "Epoch 777, Loss: 1.102022812646978\n",
      "Epoch 778, Loss: 1.097267185940462\n",
      "Epoch 779, Loss: 1.0962455868721008\n",
      "Epoch 780, Loss: 1.0972878021352432\n",
      "Epoch 781, Loss: 1.0997772532350876\n",
      "Epoch 782, Loss: 1.0988885129199308\n",
      "Epoch 783, Loss: 1.098120678873623\n",
      "Epoch 784, Loss: 1.0970009670538061\n",
      "Epoch 785, Loss: 1.0968469241086174\n",
      "Epoch 786, Loss: 1.0973699513603659\n",
      "Epoch 787, Loss: 1.0991681814193726\n",
      "Epoch 788, Loss: 1.096606987364152\n",
      "Epoch 789, Loss: 1.1003136669888216\n",
      "Epoch 790, Loss: 1.0970706168343038\n",
      "Epoch 791, Loss: 1.1018868614645565\n",
      "Epoch 792, Loss: 1.0984866864540999\n",
      "Epoch 793, Loss: 1.1010988740360035\n",
      "Epoch 794, Loss: 1.100676617201637\n",
      "Epoch 795, Loss: 1.0961080438950483\n",
      "Epoch 796, Loss: 1.099287096191855\n",
      "Epoch 797, Loss: 1.095342317048241\n",
      "Epoch 798, Loss: 1.0992437460843254\n",
      "Epoch 799, Loss: 1.098069026189692\n",
      "Epoch 800, Loss: 1.0982078699504627\n",
      "Epoch 801, Loss: 1.098521772552939\n",
      "Epoch 802, Loss: 1.0994945764541626\n",
      "Epoch 803, Loss: 1.0998091522385092\n",
      "Epoch 804, Loss: 1.0981332940213822\n",
      "Epoch 805, Loss: 1.0975112318992615\n",
      "Epoch 806, Loss: 1.0995612775578218\n",
      "Epoch 807, Loss: 1.0992923589313732\n",
      "Epoch 808, Loss: 1.1009994780316072\n",
      "Epoch 809, Loss: 1.0979204949210672\n",
      "Epoch 810, Loss: 1.0993358107174145\n",
      "Epoch 811, Loss: 1.0999403946539934\n",
      "Epoch 812, Loss: 1.0990819264860714\n",
      "Epoch 813, Loss: 1.098989188671112\n",
      "Epoch 814, Loss: 1.0983870239818798\n",
      "Epoch 815, Loss: 1.097342543742236\n",
      "Epoch 816, Loss: 1.1006655307377087\n",
      "Epoch 817, Loss: 1.0990168908063103\n",
      "Epoch 818, Loss: 1.0967119230943567\n",
      "Epoch 819, Loss: 1.0996500113431145\n",
      "Epoch 820, Loss: 1.1010009681477266\n",
      "Epoch 821, Loss: 1.0986389447661007\n",
      "Epoch 822, Loss: 1.09763064103968\n",
      "Epoch 823, Loss: 1.1001473910668318\n",
      "Epoch 824, Loss: 1.0998277629123014\n",
      "Epoch 825, Loss: 1.0988713643130135\n",
      "Epoch 826, Loss: 1.0979330434518701\n",
      "Epoch 827, Loss: 1.100188805776484\n",
      "Epoch 828, Loss: 1.0984468670452343\n",
      "Epoch 829, Loss: 1.0982711841078365\n",
      "Epoch 830, Loss: 1.0976498302291422\n",
      "Epoch 831, Loss: 1.0981760656132418\n",
      "Epoch 832, Loss: 1.0984105047057657\n",
      "Epoch 833, Loss: 1.0979480988839094\n",
      "Epoch 834, Loss: 1.0992180249270271\n",
      "Epoch 835, Loss: 1.098563783309039\n",
      "Epoch 836, Loss: 1.0975502694354338\n",
      "Epoch 837, Loss: 1.099920258802526\n",
      "Epoch 838, Loss: 1.0968666462337269\n",
      "Epoch 839, Loss: 1.1000476199037887\n",
      "Epoch 840, Loss: 1.0979493505814497\n",
      "Epoch 841, Loss: 1.0967458416433895\n",
      "Epoch 842, Loss: 1.0979883179945105\n",
      "Epoch 843, Loss: 1.0981767037335564\n",
      "Epoch 844, Loss: 1.0991025602116304\n",
      "Epoch 845, Loss: 1.1005145206170923\n",
      "Epoch 846, Loss: 1.0976250627461601\n",
      "Epoch 847, Loss: 1.0993602030417498\n",
      "Epoch 848, Loss: 1.0991018975482267\n",
      "Epoch 849, Loss: 1.0995260512127596\n",
      "Epoch 850, Loss: 1.096482119139503\n",
      "Epoch 851, Loss: 1.098319965250352\n",
      "Epoch 852, Loss: 1.095599097364089\n",
      "Epoch 853, Loss: 1.0966371227713192\n",
      "Epoch 854, Loss: 1.0974533067030066\n",
      "Epoch 855, Loss: 1.1011195813908297\n",
      "Epoch 856, Loss: 1.0996366704211515\n",
      "Epoch 857, Loss: 1.0967034206670874\n",
      "Epoch 858, Loss: 1.0999226079267614\n",
      "Epoch 859, Loss: 1.0990687854149763\n",
      "Epoch 860, Loss: 1.0982602589270647\n",
      "Epoch 861, Loss: 1.0985570059103125\n",
      "Epoch 862, Loss: 1.0992795158835018\n",
      "Epoch 863, Loss: 1.1003342656528248\n",
      "Epoch 864, Loss: 1.098842904848211\n",
      "Epoch 865, Loss: 1.0982305091970108\n",
      "Epoch 866, Loss: 1.1008953241740955\n",
      "Epoch 867, Loss: 1.1000639445641462\n",
      "Epoch 868, Loss: 1.097238284700057\n",
      "Epoch 869, Loss: 1.0992971904137556\n",
      "Epoch 870, Loss: 1.0965101999395035\n",
      "Epoch 871, Loss: 1.0961374710587894\n",
      "Epoch 872, Loss: 1.0957659728386824\n",
      "Epoch 873, Loss: 1.1027202010154724\n",
      "Epoch 874, Loss: 1.0954015290035921\n",
      "Epoch 875, Loss: 1.1004010719411514\n",
      "Epoch 876, Loss: 1.0956969085861654\n",
      "Epoch 877, Loss: 1.0957891730701221\n",
      "Epoch 878, Loss: 1.1009795174879187\n",
      "Epoch 879, Loss: 1.0996144624317394\n",
      "Epoch 880, Loss: 1.0972222300136791\n",
      "Epoch 881, Loss: 1.096328202415915\n",
      "Epoch 882, Loss: 1.1033222780508154\n",
      "Epoch 883, Loss: 1.0986684665960424\n",
      "Epoch 884, Loss: 1.098001949927386\n",
      "Epoch 885, Loss: 1.0978082243133993\n",
      "Epoch 886, Loss: 1.0996683835983276\n",
      "Epoch 887, Loss: 1.0975075048558853\n",
      "Epoch 888, Loss: 1.0962269200998194\n",
      "Epoch 889, Loss: 1.0968574776368982\n",
      "Epoch 890, Loss: 1.1000937433803784\n",
      "Epoch 891, Loss: 1.0979159895111532\n",
      "Epoch 892, Loss: 1.0971807381686043\n",
      "Epoch 893, Loss: 1.0983664708978989\n",
      "Epoch 894, Loss: 1.0969811081886292\n",
      "Epoch 895, Loss: 1.0987182119313408\n",
      "Epoch 896, Loss: 1.100456714630127\n",
      "Epoch 897, Loss: 1.0979187944356132\n",
      "Epoch 898, Loss: 1.098941280561335\n",
      "Epoch 899, Loss: 1.0991620211040272\n",
      "Epoch 900, Loss: 1.0993623417966507\n",
      "Epoch 901, Loss: 1.0995464991120731\n",
      "Epoch 902, Loss: 1.0982970384990467\n",
      "Epoch 903, Loss: 1.0993465921458077\n",
      "Epoch 904, Loss: 1.0972086682039148\n",
      "Epoch 905, Loss: 1.097462559447569\n",
      "Epoch 906, Loss: 1.0978869445183699\n",
      "Epoch 907, Loss: 1.0972603349124683\n",
      "Epoch 908, Loss: 1.0955259624649496\n",
      "Epoch 909, Loss: 1.0986558444359724\n",
      "Epoch 910, Loss: 1.0995566459263073\n",
      "Epoch 911, Loss: 1.095807804780848\n",
      "Epoch 912, Loss: 1.0955540467711056\n",
      "Epoch 913, Loss: 1.0987004672779757\n",
      "Epoch 914, Loss: 1.0970404638963587\n",
      "Epoch 915, Loss: 1.0998227771590738\n",
      "Epoch 916, Loss: 1.1000882211853475\n",
      "Epoch 917, Loss: 1.0976647769703585\n",
      "Epoch 918, Loss: 1.09840546986636\n",
      "Epoch 919, Loss: 1.1002626980052275\n",
      "Epoch 920, Loss: 1.0975328403360702\n",
      "Epoch 921, Loss: 1.103119769517113\n",
      "Epoch 922, Loss: 1.0991157082950367\n",
      "Epoch 923, Loss: 1.097911280744216\n",
      "Epoch 924, Loss: 1.0985477952396168\n",
      "Epoch 925, Loss: 1.0981499447542078\n",
      "Epoch 926, Loss: 1.0977953917839949\n",
      "Epoch 927, Loss: 1.0934449749834396\n",
      "Epoch 928, Loss: 1.0971268941374386\n",
      "Epoch 929, Loss: 1.093630362959469\n",
      "Epoch 930, Loss: 1.0970099322936113\n",
      "Epoch 931, Loss: 1.096168759991141\n",
      "Epoch 932, Loss: 1.0929956962080563\n",
      "Epoch 933, Loss: 1.0988321725059957\n",
      "Epoch 934, Loss: 1.0972082264283125\n",
      "Epoch 935, Loss: 1.0982398390769958\n",
      "Epoch 936, Loss: 1.1030173441943\n",
      "Epoch 937, Loss: 1.0983378536560957\n",
      "Epoch 938, Loss: 1.095252580502454\n",
      "Epoch 939, Loss: 1.0985247457728666\n",
      "Epoch 940, Loss: 1.0939785452450024\n",
      "Epoch 941, Loss: 1.0998447081621956\n",
      "Epoch 942, Loss: 1.1018732645932365\n",
      "Epoch 943, Loss: 1.0982916179825277\n",
      "Epoch 944, Loss: 1.0964191661161535\n",
      "Epoch 945, Loss: 1.098035570453195\n",
      "Epoch 946, Loss: 1.0980498229756075\n",
      "Epoch 947, Loss: 1.0972404024180245\n",
      "Epoch 948, Loss: 1.0987843625685747\n",
      "Epoch 949, Loss: 1.0948864467003767\n",
      "Epoch 950, Loss: 1.0951039791107178\n",
      "Epoch 951, Loss: 1.0977518067640417\n",
      "Epoch 952, Loss: 1.1024494837312138\n",
      "Epoch 953, Loss: 1.0967114147017984\n",
      "Epoch 954, Loss: 1.09621165079229\n",
      "Epoch 955, Loss: 1.0994896327748018\n",
      "Epoch 956, Loss: 1.0995807823012858\n",
      "Epoch 957, Loss: 1.0977849013665144\n",
      "Epoch 958, Loss: 1.1007456744418425\n",
      "Epoch 959, Loss: 1.0984437395544613\n",
      "Epoch 960, Loss: 1.0964642587830038\n",
      "Epoch 961, Loss: 1.0976794116637285\n",
      "Epoch 962, Loss: 1.0968388319015503\n",
      "Epoch 963, Loss: 1.0999241892029257\n",
      "Epoch 964, Loss: 1.1012267856036915\n",
      "Epoch 965, Loss: 1.096404997741475\n",
      "Epoch 966, Loss: 1.0978782457463883\n",
      "Epoch 967, Loss: 1.0978737157933853\n",
      "Epoch 968, Loss: 1.097266130587634\n",
      "Epoch 969, Loss: 1.0964273494832657\n",
      "Epoch 970, Loss: 1.100720258320079\n",
      "Epoch 971, Loss: 1.0977207001517801\n",
      "Epoch 972, Loss: 1.0969916196430431\n",
      "Epoch 973, Loss: 1.0990302773082958\n",
      "Epoch 974, Loss: 1.0962339990279253\n",
      "Epoch 975, Loss: 1.096090853214264\n",
      "Epoch 976, Loss: 1.0997453507255106\n",
      "Epoch 977, Loss: 1.0990172834957348\n",
      "Epoch 978, Loss: 1.094051718711853\n",
      "Epoch 979, Loss: 1.0917320426772623\n",
      "Epoch 980, Loss: 1.0946648226064795\n",
      "Epoch 981, Loss: 1.0948649364359238\n",
      "Epoch 982, Loss: 1.0986341799006742\n",
      "Epoch 983, Loss: 1.0944433808326721\n",
      "Epoch 984, Loss: 1.1000268599566292\n",
      "Epoch 985, Loss: 1.0983880232362186\n",
      "Epoch 986, Loss: 1.0960785606328178\n",
      "Epoch 987, Loss: 1.0970490434590507\n",
      "Epoch 988, Loss: 1.0991079211235046\n",
      "Epoch 989, Loss: 1.0952802721191854\n",
      "Epoch 990, Loss: 1.0963102649239933\n",
      "Epoch 991, Loss: 1.0978381774004768\n",
      "Epoch 992, Loss: 1.0918871848022236\n",
      "Epoch 993, Loss: 1.0989142656326294\n",
      "Epoch 994, Loss: 1.0948054334696602\n",
      "Epoch 995, Loss: 1.0989684637855082\n",
      "Epoch 996, Loss: 1.0990675933220808\n",
      "Epoch 997, Loss: 1.0973724652739132\n",
      "Epoch 998, Loss: 1.0960438707295586\n",
      "Epoch 999, Loss: 1.0965610707507414\n",
      "Epoch 1000, Loss: 1.1026064367855297\n"
     ]
    }
   ],
   "source": [
    "import torch.optim as optim\n",
    "\n",
    "criterion = nn.CrossEntropyLoss()\n",
    "optimizer = optim.Adam(model.parameters(), lr=0.001)\n",
    "\n",
    "for epoch in range(1000):\n",
    "    running_loss = 0.0\n",
    "    for i, data in enumerate(train_loader, 0):\n",
    "        inputs, labels = data\n",
    "        optimizer.zero_grad()\n",
    "\n",
    "        outputs = model(inputs)\n",
    "        loss = criterion(outputs, labels)\n",
    "        loss.backward()\n",
    "        optimizer.step()\n",
    "\n",
    "        running_loss += loss.item()\n",
    "    print(f\"Epoch {epoch + 1}, Loss: {running_loss / len(train_loader)}\")"
   ]
  },
  {
   "cell_type": "code",
   "execution_count": 570,
   "metadata": {},
   "outputs": [
    {
     "name": "stdout",
     "output_type": "stream",
     "text": [
      "Accuracy of the network on the test data: 32%\n"
     ]
    }
   ],
   "source": [
    "correct = 0\n",
    "total = 0\n",
    "with torch.no_grad():\n",
    "    for data in test_loader:\n",
    "        inputs, labels = data\n",
    "        outputs = model(inputs)\n",
    "        _, predicted = torch.max(outputs.data, 1)\n",
    "        total += labels.size(0)\n",
    "        correct += (predicted == labels).sum().item()\n",
    "\n",
    "print(f'Accuracy of the network on the test data: {100 * correct // total}%')"
   ]
  },
  {
   "cell_type": "code",
   "execution_count": 52,
   "metadata": {},
   "outputs": [],
   "source": [
    "range_check = data_list[1].block_sample_ranges[0]"
   ]
  },
  {
   "cell_type": "code",
   "execution_count": 56,
   "metadata": {},
   "outputs": [],
   "source": [
    "test_data = data_list[1].data_dictionary['F3'][range_check[0]:range_check[1]]"
   ]
  },
  {
   "cell_type": "code",
   "execution_count": null,
   "metadata": {},
   "outputs": [],
   "source": [
    "result = eeglib.preprocessing.bandPassFilter(test_data, sampleRate=1024, highpass=2, lowpass=45, order = 5)"
   ]
  },
  {
   "cell_type": "code",
   "execution_count": 60,
   "metadata": {},
   "outputs": [
    {
     "data": {
      "image/png": "[encoded data removed]",
      "text/plain": [
       "<Figure size 432x288 with 1 Axes>"
      ]
     },
     "metadata": {
      "needs_background": "light"
     },
     "output_type": "display_data"
    }
   ],
   "source": [
    "plt.plot(test_data)\n",
    "plt.show()"
   ]
  },
  {
   "cell_type": "code",
   "execution_count": 107,
   "metadata": {},
   "outputs": [
    {
     "data": {
      "image/png": "[encoded data removed]",
      "text/plain": [
       "<Figure size 432x288 with 1 Axes>"
      ]
     },
     "metadata": {
      "needs_background": "light"
     },
     "output_type": "display_data"
    }
   ],
   "source": [
    "plt.plot(result)\n",
    "plt.show()"
   ]
  },
  {
   "cell_type": "code",
   "execution_count": 126,
   "metadata": {},
   "outputs": [
    {
     "name": "stdout",
     "output_type": "stream",
     "text": [
      "0.2088237211822282\n"
     ]
    },
    {
     "data": {
      "text/plain": [
       "11.539815241156433"
      ]
     },
     "execution_count": 126,
     "metadata": {},
     "output_type": "execute_result"
    }
   ],
   "source": [
    "print(bandpower(result, 1024, [4,8], relative = True))\n",
    "bandpower(result, 1024, [4,8])"
   ]
  },
  {
   "cell_type": "code",
   "execution_count": 127,
   "metadata": {},
   "outputs": [
    {
     "name": "stdout",
     "output_type": "stream",
     "text": [
      "0.14022191621824373\n"
     ]
    },
    {
     "data": {
      "text/plain": [
       "7.32928685004221"
      ]
     },
     "execution_count": 127,
     "metadata": {},
     "output_type": "execute_result"
    }
   ],
   "source": [
    "print(bandpower(result, 1024, [8,12], relative = True))\n",
    "bandpower(result, 1024, [8,12])"
   ]
  },
  {
   "cell_type": "code",
   "execution_count": 128,
   "metadata": {},
   "outputs": [
    {
     "name": "stdout",
     "output_type": "stream",
     "text": [
      "0.25136992155422816\n"
     ]
    },
    {
     "data": {
      "text/plain": [
       "12.109556544619416"
      ]
     },
     "execution_count": 128,
     "metadata": {},
     "output_type": "execute_result"
    }
   ],
   "source": [
    "print(bandpower(result, 1024, [12,30], relative = True))\n",
    "bandpower(result, 1024, [12,30])"
   ]
  },
  {
   "cell_type": "code",
   "execution_count": 129,
   "metadata": {},
   "outputs": [
    {
     "name": "stdout",
     "output_type": "stream",
     "text": [
      "0.0\n"
     ]
    },
    {
     "data": {
      "text/plain": [
       "0.0"
      ]
     },
     "execution_count": 129,
     "metadata": {},
     "output_type": "execute_result"
    }
   ],
   "source": [
    "print(bandpower(result, 1024, [30,45], relative = True))\n",
    "bandpower(result, 1024, [30,45])"
   ]
  },
  {
   "cell_type": "code",
   "execution_count": 186,
   "metadata": {},
   "outputs": [],
   "source": [
    "ca1, cd1 = pywt.dwt(result, 'db5')"
   ]
  },
  {
   "cell_type": "code",
   "execution_count": 187,
   "metadata": {},
   "outputs": [],
   "source": [
    "ca2,cd2 = pywt.dwt(ca1, 'db5')"
   ]
  },
  {
   "cell_type": "code",
   "execution_count": 192,
   "metadata": {},
   "outputs": [
    {
     "data": {
      "text/plain": [
       "3206"
      ]
     },
     "execution_count": 192,
     "metadata": {},
     "output_type": "execute_result"
    }
   ],
   "source": [
    "len(ca2)"
   ]
  },
  {
   "cell_type": "code",
   "execution_count": 176,
   "metadata": {},
   "outputs": [
    {
     "data": {
      "text/plain": [
       "408"
      ]
     },
     "execution_count": 176,
     "metadata": {},
     "output_type": "execute_result"
    }
   ],
   "source": [
    "len(a[0])"
   ]
  },
  {
   "cell_type": "code",
   "execution_count": 177,
   "metadata": {},
   "outputs": [
    {
     "name": "stderr",
     "output_type": "stream",
     "text": [
      "<ipython-input-29-b7b995159154>:6: DeprecationWarning: scipy.arange is deprecated and will be removed in SciPy 2.0.0, use numpy.arange instead\n",
      "  k = scipy.arange(n)\n"
     ]
    },
    {
     "data": {
      "image/png": "[encoded data removed]",
      "text/plain": [
       "<Figure size 432x288 with 1 Axes>"
      ]
     },
     "metadata": {
      "needs_background": "light"
     },
     "output_type": "display_data"
    }
   ],
   "source": [
    "plotSpectrum(a[4][:-4],1024)\n"
   ]
  },
  {
   "cell_type": "code",
   "execution_count": 178,
   "metadata": {},
   "outputs": [
    {
     "name": "stderr",
     "output_type": "stream",
     "text": [
      "<ipython-input-29-b7b995159154>:6: DeprecationWarning: scipy.arange is deprecated and will be removed in SciPy 2.0.0, use numpy.arange instead\n",
      "  k = scipy.arange(n)\n"
     ]
    },
    {
     "data": {
      "image/png": "[encoded data removed]",
      "text/plain": [
       "<Figure size 432x288 with 1 Axes>"
      ]
     },
     "metadata": {
      "needs_background": "light"
     },
     "output_type": "display_data"
    }
   ],
   "source": [
    "plotSpectrum(a[3][:-4],1024)\n"
   ]
  },
  {
   "cell_type": "code",
   "execution_count": 179,
   "metadata": {},
   "outputs": [
    {
     "name": "stderr",
     "output_type": "stream",
     "text": [
      "<ipython-input-29-b7b995159154>:6: DeprecationWarning: scipy.arange is deprecated and will be removed in SciPy 2.0.0, use numpy.arange instead\n",
      "  k = scipy.arange(n)\n"
     ]
    },
    {
     "data": {
      "image/png": "[encoded data removed]",
      "text/plain": [
       "<Figure size 432x288 with 1 Axes>"
      ]
     },
     "metadata": {
      "needs_background": "light"
     },
     "output_type": "display_data"
    }
   ],
   "source": [
    "plotSpectrum(a[2][:-4],1024)"
   ]
  },
  {
   "cell_type": "code",
   "execution_count": 180,
   "metadata": {},
   "outputs": [
    {
     "name": "stderr",
     "output_type": "stream",
     "text": [
      "<ipython-input-29-b7b995159154>:6: DeprecationWarning: scipy.arange is deprecated and will be removed in SciPy 2.0.0, use numpy.arange instead\n",
      "  k = scipy.arange(n)\n"
     ]
    },
    {
     "data": {
      "image/png": "[encoded data removed]",
      "text/plain": [
       "<Figure size 432x288 with 1 Axes>"
      ]
     },
     "metadata": {
      "needs_background": "light"
     },
     "output_type": "display_data"
    }
   ],
   "source": [
    "plotSpectrum(a[1][:-4], 1024)\n"
   ]
  },
  {
   "cell_type": "code",
   "execution_count": 181,
   "metadata": {},
   "outputs": [
    {
     "name": "stderr",
     "output_type": "stream",
     "text": [
      "<ipython-input-29-b7b995159154>:6: DeprecationWarning: scipy.arange is deprecated and will be removed in SciPy 2.0.0, use numpy.arange instead\n",
      "  k = scipy.arange(n)\n"
     ]
    },
    {
     "data": {
      "image/png": "[encoded data removed]",
      "text/plain": [
       "<Figure size 432x288 with 1 Axes>"
      ]
     },
     "metadata": {
      "needs_background": "light"
     },
     "output_type": "display_data"
    }
   ],
   "source": [
    "plotSpectrum(a[0][:-4], 1024)\n",
    "# plt.show()"
   ]
  },
  {
   "cell_type": "code",
   "execution_count": 141,
   "metadata": {},
   "outputs": [
    {
     "data": {
      "text/plain": [
       "6"
      ]
     },
     "execution_count": 141,
     "metadata": {},
     "output_type": "execute_result"
    }
   ],
   "source": [
    "a,b,c,d,e"
   ]
  },
  {
   "cell_type": "code",
   "execution_count": 137,
   "metadata": {},
   "outputs": [
    {
     "data": {
      "text/plain": [
       "6404"
      ]
     },
     "execution_count": 137,
     "metadata": {},
     "output_type": "execute_result"
    }
   ],
   "source": [
    "len(wavelets[1])"
   ]
  },
  {
   "cell_type": "code",
   "execution_count": null,
   "metadata": {},
   "outputs": [],
   "source": []
  }
 ],
 "metadata": {
  "kernelspec": {
   "display_name": "base",
   "language": "python",
   "name": "python3"
  },
  "language_info": {
   "codemirror_mode": {
    "name": "ipython",
    "version": 3
   },
   "file_extension": ".py",
   "mimetype": "text/x-python",
   "name": "python",
   "nbconvert_exporter": "python",
   "pygments_lexer": "ipython3",
   "version": "3.9.12"
  }
 },
 "nbformat": 4,
 "nbformat_minor": 2
}
